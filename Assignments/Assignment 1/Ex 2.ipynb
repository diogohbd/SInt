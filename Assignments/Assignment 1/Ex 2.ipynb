{
 "cells": [
  {
   "cell_type": "markdown",
   "id": "61e0d215-b9e4-4a1f-aa08-dbb0dabd952e",
   "metadata": {},
   "source": [
    "## Importing Tools"
   ]
  },
  {
   "cell_type": "code",
   "execution_count": 23,
   "id": "13a4dc1b-d680-492a-82c9-2f61a6e4e538",
   "metadata": {},
   "outputs": [],
   "source": [
    "import pandas as pd\n",
    "from sklearn.model_selection import train_test_split\n",
    "from pyfume.Clustering import Clusterer\n",
    "from pyfume.EstimateAntecendentSet import AntecedentEstimator\n",
    "from pyfume.EstimateConsequentParameters import ConsequentEstimator\n",
    "from pyfume.SimpfulModelBuilder import SugenoFISBuilder\n",
    "from pyfume.Tester import SugenoFISTester\n",
    "from sklearn.metrics import accuracy_score, recall_score, precision_score, f1_score, cohen_kappa_score\n",
    "from numpy import clip, column_stack, argmax\n",
    "import matplotlib.pyplot as plt"
   ]
  },
  {
   "cell_type": "markdown",
   "id": "f1281830-4a59-452f-8dee-7a08d210fab4",
   "metadata": {},
   "source": [
    "## Pre-processing Data"
   ]
  },
  {
   "cell_type": "code",
   "execution_count": 15,
   "id": "b6c238c8-976e-4217-8887-77de1aa2be43",
   "metadata": {},
   "outputs": [
    {
     "data": {
      "text/html": [
       "<div>\n",
       "<style scoped>\n",
       "    .dataframe tbody tr th:only-of-type {\n",
       "        vertical-align: middle;\n",
       "    }\n",
       "\n",
       "    .dataframe tbody tr th {\n",
       "        vertical-align: top;\n",
       "    }\n",
       "\n",
       "    .dataframe thead th {\n",
       "        text-align: right;\n",
       "    }\n",
       "</style>\n",
       "<table border=\"1\" class=\"dataframe\">\n",
       "  <thead>\n",
       "    <tr style=\"text-align: right;\">\n",
       "      <th></th>\n",
       "      <th>X1</th>\n",
       "      <th>X2</th>\n",
       "      <th>X3</th>\n",
       "      <th>X4</th>\n",
       "      <th>X5</th>\n",
       "      <th>X6</th>\n",
       "      <th>X7</th>\n",
       "      <th>X8</th>\n",
       "      <th>X9</th>\n",
       "      <th>Y</th>\n",
       "    </tr>\n",
       "  </thead>\n",
       "  <tbody>\n",
       "    <tr>\n",
       "      <th>0</th>\n",
       "      <td>5</td>\n",
       "      <td>1</td>\n",
       "      <td>1</td>\n",
       "      <td>1</td>\n",
       "      <td>2</td>\n",
       "      <td>1</td>\n",
       "      <td>3</td>\n",
       "      <td>1</td>\n",
       "      <td>1</td>\n",
       "      <td>0</td>\n",
       "    </tr>\n",
       "    <tr>\n",
       "      <th>1</th>\n",
       "      <td>5</td>\n",
       "      <td>4</td>\n",
       "      <td>4</td>\n",
       "      <td>5</td>\n",
       "      <td>7</td>\n",
       "      <td>10</td>\n",
       "      <td>3</td>\n",
       "      <td>2</td>\n",
       "      <td>1</td>\n",
       "      <td>0</td>\n",
       "    </tr>\n",
       "    <tr>\n",
       "      <th>2</th>\n",
       "      <td>3</td>\n",
       "      <td>1</td>\n",
       "      <td>1</td>\n",
       "      <td>1</td>\n",
       "      <td>2</td>\n",
       "      <td>2</td>\n",
       "      <td>3</td>\n",
       "      <td>1</td>\n",
       "      <td>1</td>\n",
       "      <td>0</td>\n",
       "    </tr>\n",
       "    <tr>\n",
       "      <th>3</th>\n",
       "      <td>6</td>\n",
       "      <td>8</td>\n",
       "      <td>8</td>\n",
       "      <td>1</td>\n",
       "      <td>3</td>\n",
       "      <td>4</td>\n",
       "      <td>3</td>\n",
       "      <td>7</td>\n",
       "      <td>1</td>\n",
       "      <td>0</td>\n",
       "    </tr>\n",
       "    <tr>\n",
       "      <th>4</th>\n",
       "      <td>4</td>\n",
       "      <td>1</td>\n",
       "      <td>1</td>\n",
       "      <td>3</td>\n",
       "      <td>2</td>\n",
       "      <td>1</td>\n",
       "      <td>3</td>\n",
       "      <td>1</td>\n",
       "      <td>1</td>\n",
       "      <td>0</td>\n",
       "    </tr>\n",
       "  </tbody>\n",
       "</table>\n",
       "</div>"
      ],
      "text/plain": [
       "   X1  X2  X3  X4  X5  X6  X7  X8  X9  Y\n",
       "0   5   1   1   1   2   1   3   1   1  0\n",
       "1   5   4   4   5   7  10   3   2   1  0\n",
       "2   3   1   1   1   2   2   3   1   1  0\n",
       "3   6   8   8   1   3   4   3   7   1  0\n",
       "4   4   1   1   3   2   1   3   1   1  0"
      ]
     },
     "execution_count": 15,
     "metadata": {},
     "output_type": "execute_result"
    }
   ],
   "source": [
    "data = pd.read_csv('./data/wbco.csv',header=None)\n",
    "indexes = ['X1', 'X2', 'X3', 'X4', 'X5', 'X6', 'X7', 'X8', 'X9', 'Y']\n",
    "data.columns = indexes\n",
    "indexes = indexes[:-1]\n",
    "data.head()"
   ]
  },
  {
   "cell_type": "code",
   "execution_count": 16,
   "id": "00a05cbc-f6e9-46f4-998e-676b22f31118",
   "metadata": {},
   "outputs": [],
   "source": [
    "dataAux = data.apply(pd.to_numeric, errors='coerce')\n",
    "data = dataAux.dropna()"
   ]
  },
  {
   "cell_type": "code",
   "execution_count": 17,
   "id": "5356290d-0b34-4ede-ae61-c73b8d5b8be2",
   "metadata": {},
   "outputs": [],
   "source": [
    "dataX = data.drop('Y', axis = 1)\n",
    "dataY = data.Y\n",
    "\n",
    "xTrain, xTest, yTrain, yTest = train_test_split(dataX, dataY, test_size = 0.3, random_state=0)\n",
    "\n",
    "xTrain = xTrain.to_numpy()\n",
    "xTest = xTest.to_numpy()\n",
    "yTrain = yTrain.array\n",
    "yTest = yTest.array"
   ]
  },
  {
   "cell_type": "markdown",
   "id": "b23c3312-c3c5-4152-a8e3-91ffe8ac5032",
   "metadata": {},
   "source": [
    "## Building the model"
   ]
  },
  {
   "cell_type": "markdown",
   "id": "d6b695e2-9180-48b3-bab5-7bdd4e36874c",
   "metadata": {},
   "source": [
    "#### FCM"
   ]
  },
  {
   "cell_type": "code",
   "execution_count": 18,
   "id": "03a48e08-6fca-4045-b78a-8140cb0408e4",
   "metadata": {
    "scrolled": true
   },
   "outputs": [
    {
     "name": "stdout",
     "output_type": "stream",
     "text": [
      " * Detected 2 rules / clusters\n",
      " * Detected Sugeno model type\n",
      " * Detected 3 rules / clusters\n",
      " * Detected Sugeno model type\n",
      " * Detected 4 rules / clusters\n",
      " * Detected Sugeno model type\n",
      " * Detected 5 rules / clusters\n",
      " * Detected Sugeno model type\n",
      " * Detected 6 rules / clusters\n",
      " * Detected Sugeno model type\n",
      " * Detected 7 rules / clusters\n",
      " * Detected Sugeno model type\n",
      " * Detected 8 rules / clusters\n",
      " * Detected Sugeno model type\n",
      " * Detected 9 rules / clusters\n",
      " * Detected Sugeno model type\n"
     ]
    }
   ],
   "source": [
    "f1Array1 = []\n",
    "\n",
    "for clustNum in range(2, 10):\n",
    "    clusters = Clusterer(x_train=xTrain, y_train=yTrain, nr_clus=clustNum)\n",
    "        \n",
    "    clustCenters, partMatrix, _ = clusters.cluster(method='fcm')\n",
    "        \n",
    "    antEst = AntecedentEstimator(xTrain, partMatrix)\n",
    "    antParams = antEst.determineMF()\n",
    "        \n",
    "    conseqEst = ConsequentEstimator(xTrain, yTrain, partMatrix)\n",
    "    conseqParams = conseqEst.suglms()\n",
    "        \n",
    "    # Build first-order Takagi-Sugeno model\n",
    "    modbuilder = SugenoFISBuilder(antParams, conseqParams, indexes, save_simpful_code=False)\n",
    "    model = modbuilder.get_model()\n",
    "        \n",
    "    # Get model predictions\n",
    "    modtester = SugenoFISTester(model, xTest, indexes)\n",
    "    yPredProbs = clip(modtester.predict()[0], 0, 1)\n",
    "    yPredProbs = column_stack((1 - yPredProbs, yPredProbs))\n",
    "    yPrediction = argmax(yPredProbs,axis=1)\n",
    "\n",
    "    f1 = f1_score(yTest, yPrediction)\n",
    "    f1Array1.append(f1)"
   ]
  },
  {
   "cell_type": "markdown",
   "id": "01049553-9b80-4589-a97b-8a942a77e56f",
   "metadata": {},
   "source": [
    "#### GK"
   ]
  },
  {
   "cell_type": "code",
   "execution_count": 19,
   "id": "faa57ce5-da4c-41b8-abe5-7cdc425a3133",
   "metadata": {
    "scrolled": true
   },
   "outputs": [
    {
     "name": "stdout",
     "output_type": "stream",
     "text": [
      " * Detected 2 rules / clusters\n",
      " * Detected Sugeno model type\n",
      " * Detected 3 rules / clusters\n",
      " * Detected Sugeno model type\n",
      " * Detected 4 rules / clusters\n",
      " * Detected Sugeno model type\n",
      " * Detected 5 rules / clusters\n",
      " * Detected Sugeno model type\n",
      " * Detected 6 rules / clusters\n",
      " * Detected Sugeno model type\n",
      " * Detected 7 rules / clusters\n",
      " * Detected Sugeno model type\n",
      " * Detected 8 rules / clusters\n",
      " * Detected Sugeno model type\n",
      " * Detected 9 rules / clusters\n",
      " * Detected Sugeno model type\n"
     ]
    }
   ],
   "source": [
    "f1Array2 = []\n",
    "\n",
    "for clustNum in range(2, 10):\n",
    "    clusters = Clusterer(x_train=xTrain, y_train=yTrain, nr_clus=clustNum)\n",
    "        \n",
    "    clustCenters, partMatrix, _ = clusters.cluster(method='gk')\n",
    "        \n",
    "    antEst = AntecedentEstimator(xTrain, partMatrix)\n",
    "    antParams = antEst.determineMF()\n",
    "        \n",
    "    conseqEst = ConsequentEstimator(xTrain, yTrain, partMatrix)\n",
    "    conseqParams = conseqEst.suglms()\n",
    "        \n",
    "    # Build first-order Takagi-Sugeno model\n",
    "    modbuilder = SugenoFISBuilder(antParams, conseqParams, indexes, save_simpful_code=False)\n",
    "    model = modbuilder.get_model()\n",
    "        \n",
    "    # Get model predictions\n",
    "    modtester = SugenoFISTester(model, xTest, indexes)\n",
    "    yPredProbs = clip(modtester.predict()[0], 0, 1)\n",
    "    yPredProbs = column_stack((1 - yPredProbs, yPredProbs))\n",
    "    yPrediction = argmax(yPredProbs,axis=1)\n",
    "\n",
    "    f1 = f1_score(yTest, yPrediction)\n",
    "    f1Array2.append(f1)\n"
   ]
  },
  {
   "cell_type": "markdown",
   "id": "489252f3-73e1-4d55-bfcb-47c8673346a4",
   "metadata": {},
   "source": [
    "#### Local Fit"
   ]
  },
  {
   "cell_type": "code",
   "execution_count": 20,
   "id": "8d3bcdee-434d-4b6b-ae67-3a3943a5b929",
   "metadata": {},
   "outputs": [
    {
     "name": "stdout",
     "output_type": "stream",
     "text": [
      " * Detected 2 rules / clusters\n",
      " * Detected Sugeno model type\n",
      " * Detected 3 rules / clusters\n",
      " * Detected Sugeno model type\n",
      " * Detected 4 rules / clusters\n",
      " * Detected Sugeno model type\n"
     ]
    }
   ],
   "source": [
    "f1Array3 = []\n",
    "for clustNum in range(2, 5):\n",
    "    clusters = Clusterer(x_train=xTrain, y_train=yTrain, nr_clus=clustNum)\n",
    "        \n",
    "    clustCenters, partMatrix, _ = clusters.cluster(method='fcm')\n",
    "        \n",
    "    antEst = AntecedentEstimator(xTrain, partMatrix)\n",
    "    antParams = antEst.determineMF()\n",
    "        \n",
    "    conseqEst = ConsequentEstimator(xTrain, yTrain, partMatrix)\n",
    "    conseqParams = conseqEst.suglms(global_fit=False)\n",
    "        \n",
    "    # Build first-order Takagi-Sugeno model\n",
    "    modbuilder = SugenoFISBuilder(antParams, conseqParams, indexes, save_simpful_code=False)\n",
    "    model = modbuilder.get_model()\n",
    "        \n",
    "    # Get model predictions\n",
    "    modtester = SugenoFISTester(model, xTest, indexes)\n",
    "    yPredProbs = clip(modtester.predict()[0], 0, 1)\n",
    "    yPredProbs = column_stack((1 - yPredProbs, yPredProbs))\n",
    "    yPrediction = argmax(yPredProbs,axis=1)\n",
    "\n",
    "    f1 = f1_score(yTest, yPrediction)\n",
    "    f1Array3.append(f1)"
   ]
  },
  {
   "cell_type": "code",
   "execution_count": 21,
   "id": "855e2226-02fd-4540-a9cf-22233f84cf3e",
   "metadata": {},
   "outputs": [
    {
     "name": "stdout",
     "output_type": "stream",
     "text": [
      " * Detected 2 rules / clusters\n",
      " * Detected Sugeno model type\n",
      " * Detected 3 rules / clusters\n",
      " * Detected Sugeno model type\n",
      " * Detected 4 rules / clusters\n",
      " * Detected Sugeno model type\n"
     ]
    }
   ],
   "source": [
    "f1Array4 = []\n",
    "for clustNum in range(2, 5):\n",
    "    clusters = Clusterer(x_train=xTrain, y_train=yTrain, nr_clus=clustNum)\n",
    "        \n",
    "    clustCenters, partMatrix, _ = clusters.cluster(method='fcm')\n",
    "        \n",
    "    antEst = AntecedentEstimator(xTrain, partMatrix)\n",
    "    antParams = antEst.determineMF()\n",
    "        \n",
    "    conseqEst = ConsequentEstimator(xTrain, yTrain, partMatrix)\n",
    "    conseqParams = conseqEst.suglms(global_fit=True)\n",
    "        \n",
    "    # Build first-order Takagi-Sugeno model\n",
    "    modbuilder = SugenoFISBuilder(antParams, conseqParams, indexes, save_simpful_code=False)\n",
    "    model = modbuilder.get_model()\n",
    "        \n",
    "    # Get model predictions\n",
    "    modtester = SugenoFISTester(model, xTest, indexes)\n",
    "    yPredProbs = clip(modtester.predict()[0], 0, 1)\n",
    "    yPredProbs = column_stack((1 - yPredProbs, yPredProbs))\n",
    "    yPrediction = argmax(yPredProbs,axis=1)\n",
    "\n",
    "    f1 = f1_score(yTest, yPrediction)\n",
    "    f1Array4.append(f1)"
   ]
  },
  {
   "cell_type": "markdown",
   "id": "851b2458-4013-4828-856a-974f38431c19",
   "metadata": {},
   "source": [
    "## Plot results"
   ]
  },
  {
   "cell_type": "code",
   "execution_count": 24,
   "id": "28ce0705-a576-4854-a700-57cc57d8af15",
   "metadata": {},
   "outputs": [
    {
     "data": {
      "image/png": "[encoded data removed]",
      "text/plain": [
       "<Figure size 640x480 with 1 Axes>"
      ]
     },
     "metadata": {},
     "output_type": "display_data"
    }
   ],
   "source": [
    "plt.plot(range(2,10), f1Array1, label=\"FCM\", color=\"blue\", marker=\"o\")\n",
    "plt.plot(range(2,10), f1Array2, label=\"GK\", color=\"red\", marker=\"o\",)\n",
    "plt.xlabel(\"Clusters\")\n",
    "plt.ylabel(\"F1 Score\")\n",
    "plt.title(\"Model Performance\")\n",
    "plt.legend()\n",
    "plt.show()"
   ]
  },
  {
   "cell_type": "code",
   "execution_count": 25,
   "id": "2148954a-7c24-4e7f-a73e-1bdae8441c1d",
   "metadata": {},
   "outputs": [
    {
     "data": {
      "image/png": "[encoded data removed]",
      "text/plain": [
       "<Figure size 640x480 with 1 Axes>"
      ]
     },
     "metadata": {},
     "output_type": "display_data"
    }
   ],
   "source": [
    "plt.plot(range(2,5), f1Array3, label=\"Local Fit\", color=\"blue\", marker=\"o\")\n",
    "plt.plot(range(2,5), f1Array4, label=\"Global Fit\", color=\"red\", marker=\"o\",)\n",
    "plt.xlabel(\"Clusters\")\n",
    "plt.ylabel(\"F1 Score\")\n",
    "plt.title(\"Model Performance\")\n",
    "plt.legend()\n",
    "plt.show()"
   ]
  },
  {
   "cell_type": "markdown",
   "id": "b38fbcfa-33c6-44d8-9954-32a52fc46f1f",
   "metadata": {},
   "source": [
    "## Best model"
   ]
  },
  {
   "cell_type": "code",
   "execution_count": 30,
   "id": "1028096a-a32a-4af1-857f-9e7739d75e75",
   "metadata": {},
   "outputs": [
    {
     "name": "stdout",
     "output_type": "stream",
     "text": [
      " * Detected 4 rules / clusters\n",
      " * Detected Sugeno model type\n",
      "Best F1 Score: 0.9090909090909091 (Cluster Count: 4)\n"
     ]
    }
   ],
   "source": [
    "clusters = Clusterer(x_train=xTrain, y_train=yTrain, nr_clus=4)\n",
    "        \n",
    "clustCenters, partMatrix, _ = clusters.cluster(method='fcm')\n",
    "    \n",
    "antEst = AntecedentEstimator(xTrain, partMatrix)\n",
    "antParams = antEst.determineMF()\n",
    "    \n",
    "conseqEst = ConsequentEstimator(xTrain, yTrain, partMatrix)\n",
    "conseqParams = conseqEst.suglms(global_fit=False)\n",
    "    \n",
    "# Build first-order Takagi-Sugeno model\n",
    "modbuilder = SugenoFISBuilder(antParams, conseqParams, indexes, save_simpful_code=False)\n",
    "model = modbuilder.get_model()\n",
    "    \n",
    "# Get model predictions\n",
    "modtester = SugenoFISTester(model, xTest, indexes)\n",
    "yPredProbs = clip(modtester.predict()[0], 0, 1)\n",
    "yPredProbs = column_stack((1 - yPredProbs, yPredProbs))\n",
    "yPrediction = argmax(yPredProbs,axis=1)\n",
    "\n",
    "f1 = f1_score(yTest, yPrediction)\n",
    "print(f\"Best F1 Score: {f1} (Cluster Count: 4)\")"
   ]
  },
  {
   "cell_type": "code",
   "execution_count": null,
   "id": "74a66ad6-a3ae-4ade-ab90-9cfc77c64f42",
   "metadata": {},
   "outputs": [],
   "source": []
  }
 ],
 "metadata": {
  "kernelspec": {
   "display_name": "Python 3 (ipykernel)",
   "language": "python",
   "name": "python3"
  },
  "language_info": {
   "codemirror_mode": {
    "name": "ipython",
    "version": 3
   },
   "file_extension": ".py",
   "mimetype": "text/x-python",
   "name": "python",
   "nbconvert_exporter": "python",
   "pygments_lexer": "ipython3",
   "version": "3.12.5"
  }
 },
 "nbformat": 4,
 "nbformat_minor": 5
}
