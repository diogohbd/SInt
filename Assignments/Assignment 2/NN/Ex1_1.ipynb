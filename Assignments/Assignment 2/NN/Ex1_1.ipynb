{
 "cells": [
  {
   "cell_type": "markdown",
   "metadata": {},
   "source": [
    "#### Importing and preprocessing the data"
   ]
  },
  {
   "cell_type": "code",
   "execution_count": 18,
   "metadata": {},
   "outputs": [],
   "source": [
    "import pandas as pd\n",
    "from sklearn.model_selection import train_test_split\n",
    "from pyfume.Clustering import Clusterer\n",
    "from pyfume.EstimateAntecendentSet import AntecedentEstimator\n",
    "from pyfume.EstimateConsequentParameters import ConsequentEstimator\n",
    "from pyfume.SimpfulModelBuilder import SugenoFISBuilder\n",
    "from pyfume.Tester import SugenoFISTester\n",
    "from sklearn.model_selection import train_test_split\n",
    "from sklearn.neural_network import MLPRegressor\n",
    "from pandas import read_csv \n",
    "from sklearn.preprocessing import MinMaxScaler\n",
    "from sklearn.metrics import root_mean_squared_error, mean_absolute_percentage_error, explained_variance_score\n",
    "from pandas import read_csv \n",
    "\n",
    "import matplotlib.pyplot as plt\n",
    "\n",
    "data = pd.read_csv('./data/hairdryer.csv',header=None)\n",
    "indexes = ['X', 'Y']\n",
    "data.columns = indexes\n",
    "indexes = indexes[:-1]"
   ]
  },
  {
   "cell_type": "code",
   "execution_count": 19,
   "metadata": {},
   "outputs": [],
   "source": [
    "data_x = data.drop('Y', axis = 1)\n",
    "data_y = data.Y\n",
    "\n",
    "x_train, x_test, y_train, y_test = train_test_split(data_x, data_y, test_size = 0.2, random_state=21)"
   ]
  },
  {
   "cell_type": "code",
   "execution_count": 20,
   "metadata": {},
   "outputs": [],
   "source": [
    "x_train = x_train.to_numpy()\n",
    "x_test = x_test.to_numpy()\n",
    "y_train = y_train.array\n",
    "y_test = y_test.array"
   ]
  },
  {
   "cell_type": "code",
   "execution_count": 21,
   "metadata": {},
   "outputs": [
    {
     "name": "stdout",
     "output_type": "stream",
     "text": [
      "Training Root Mean Squared Error: 0.831\n",
      "Testing Root Mean Squared Error: 0.779\n"
     ]
    }
   ],
   "source": [
    "# %% Train model\n",
    "regr = MLPRegressor(hidden_layer_sizes=(20,20),random_state=42, max_iter=500)\n",
    "regr.fit(x_train, y_train)\n",
    "\n",
    "# %% Get model predictions\n",
    "y_pred_train = regr.predict(x_train)  # Predictions on training data\n",
    "y_pred_test = regr.predict(x_test)    # Predictions on testing data\n",
    "\n",
    "# %% Compute regression metrics\n",
    "rmse_train = root_mean_squared_error(y_train, y_pred_train)  # Mean Squared Error for training data\n",
    "rmse_test = root_mean_squared_error(y_test, y_pred_test)      # Mean Squared Error for testing data\n",
    "\n",
    "print(\"Training Root Mean Squared Error: {:.3f}\".format(rmse_train))\n",
    "print(\"Testing Root Mean Squared Error: {:.3f}\".format(rmse_test))"
   ]
  }
 ],
 "metadata": {
  "kernelspec": {
   "display_name": "Python 3 (ipykernel)",
   "language": "python",
   "name": "python3"
  },
  "language_info": {
   "codemirror_mode": {
    "name": "ipython",
    "version": 3
   },
   "file_extension": ".py",
   "mimetype": "text/x-python",
   "name": "python",
   "nbconvert_exporter": "python",
   "pygments_lexer": "ipython3",
   "version": "3.12.5"
  }
 },
 "nbformat": 4,
 "nbformat_minor": 4
}
