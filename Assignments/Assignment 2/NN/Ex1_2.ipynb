{
 "cells": [
  {
   "cell_type": "markdown",
   "metadata": {},
   "source": [
    "#### Importing and preprocessing the data"
   ]
  },
  {
   "cell_type": "code",
   "execution_count": 65,
   "metadata": {},
   "outputs": [],
   "source": [
    "import pandas as pd\n",
    "from sklearn.model_selection import train_test_split\n",
    "from pyfume.Clustering import Clusterer\n",
    "from pyfume.EstimateAntecendentSet import AntecedentEstimator\n",
    "from pyfume.EstimateConsequentParameters import ConsequentEstimator\n",
    "from pyfume.SimpfulModelBuilder import SugenoFISBuilder\n",
    "from pyfume.Tester import SugenoFISTester\n",
    "from sklearn.metrics import accuracy_score, recall_score, precision_score, f1_score, cohen_kappa_score\n",
    "from numpy import clip, column_stack, argmax\n",
    "from sklearn.neural_network import MLPClassifier\n",
    "from sklearn.datasets import load_breast_cancer\n",
    "from sklearn.model_selection import train_test_split\n",
    "from sklearn.metrics import accuracy_score, recall_score, precision_score, f1_score, cohen_kappa_score\n",
    "\n",
    "data = pd.read_csv('./data/wbco.csv', header=None)\n",
    "indexes = ['LThick', 'UCellSize', 'UCellShape', 'MAdhesion', 'SECS', 'BlandC', 'NormNuc', 'Mitoses', 'Unknown', 'Target']\n",
    "data.columns = indexes\n",
    "\n",
    "indexes = indexes[:-1]"
   ]
  },
  {
   "cell_type": "code",
   "execution_count": 66,
   "metadata": {},
   "outputs": [
    {
     "data": {
      "text/plain": [
       "LThick        False\n",
       "UCellSize     False\n",
       "UCellShape    False\n",
       "MAdhesion     False\n",
       "SECS          False\n",
       "BlandC        False\n",
       "NormNuc       False\n",
       "Mitoses       False\n",
       "Unknown       False\n",
       "Target        False\n",
       "dtype: bool"
      ]
     },
     "execution_count": 66,
     "metadata": {},
     "output_type": "execute_result"
    }
   ],
   "source": [
    "data.dtypes == int"
   ]
  },
  {
   "cell_type": "markdown",
   "metadata": {},
   "source": [
    "A variável 'BlandC' está atualmente definida como string pois possui algumas entradas com '?'. Como resolver este problema? O número de entradas sem valor é significativo?"
   ]
  },
  {
   "cell_type": "code",
   "execution_count": 67,
   "metadata": {},
   "outputs": [
    {
     "name": "stdout",
     "output_type": "stream",
     "text": [
      "2.28898426323319% percent of entries are null.\n"
     ]
    }
   ],
   "source": [
    "na_perc = (data.BlandC[data.BlandC == '?']).count() / data.BlandC.count() * 100\n",
    "print(str(na_perc) + '% percent of entries are null.')"
   ]
  },
  {
   "cell_type": "markdown",
   "metadata": {},
   "source": [
    "Selected aproach: fill missing values with the column's average."
   ]
  },
  {
   "cell_type": "code",
   "execution_count": 68,
   "metadata": {},
   "outputs": [],
   "source": [
    "avg = data.BlandC[data.BlandC != '?'].astype(float).mean()\n",
    "data.loc[data.BlandC == '?', 'BlandC'] = avg\n",
    "data.BlandC = data.BlandC.astype(int)"
   ]
  },
  {
   "cell_type": "markdown",
   "metadata": {},
   "source": [
    "Creating a train-test split"
   ]
  },
  {
   "cell_type": "code",
   "execution_count": 69,
   "metadata": {},
   "outputs": [],
   "source": [
    "data_x = data.drop('Target', axis = 1)\n",
    "data_y = data.Target\n",
    "\n",
    "x_train, x_test, y_train, y_test = train_test_split(data_x, data_y, test_size = 0.2, random_state=21)"
   ]
  },
  {
   "cell_type": "markdown",
   "metadata": {},
   "source": [
    "Formating the data to numpy"
   ]
  },
  {
   "cell_type": "code",
   "execution_count": 70,
   "metadata": {},
   "outputs": [],
   "source": [
    "x_train = x_train.to_numpy()\n",
    "x_test = x_test.to_numpy()\n",
    "y_train = y_train.array\n",
    "y_test = y_test.array"
   ]
  },
  {
   "cell_type": "markdown",
   "metadata": {},
   "source": [
    "#### Building the model"
   ]
  },
  {
   "cell_type": "code",
   "execution_count": 71,
   "metadata": {},
   "outputs": [
    {
     "name": "stdout",
     "output_type": "stream",
     "text": [
      "Training Recall: 1.000\n",
      "Testing Recall: 0.925\n"
     ]
    }
   ],
   "source": [
    "# %% Train model\n",
    "regr = MLPClassifier(hidden_layer_sizes=(31,31,31),random_state=42, max_iter=500)\n",
    "regr.fit(x_train, y_train)\n",
    "\n",
    "# %% Get model predictions\n",
    "y_pred_train = regr.predict(x_train)  # Predictions on training data\n",
    "y_pred_test = regr.predict(x_test)    # Predictions on testing data\n",
    "\n",
    "# %% Compute classification metrics\n",
    "rec_score_train = recall_score(y_train, y_pred_train)\n",
    "rec_score_test = recall_score(y_test, y_pred_test)\n",
    "print(\"Training Recall: {:.3f}\".format(rec_score_train))\n",
    "print(\"Testing Recall: {:.3f}\".format(rec_score_test))"
   ]
  }
 ],
 "metadata": {
  "kernelspec": {
   "display_name": "Python 3 (ipykernel)",
   "language": "python",
   "name": "python3"
  },
  "language_info": {
   "codemirror_mode": {
    "name": "ipython",
    "version": 3
   },
   "file_extension": ".py",
   "mimetype": "text/x-python",
   "name": "python",
   "nbconvert_exporter": "python",
   "pygments_lexer": "ipython3",
   "version": "3.12.5"
  }
 },
 "nbformat": 4,
 "nbformat_minor": 4
}
