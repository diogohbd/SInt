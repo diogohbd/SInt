{
 "cells": [
  {
   "cell_type": "markdown",
   "id": "b356aced-77ed-47b9-9059-f319943152f4",
   "metadata": {},
   "source": [
    "## Create Dataset"
   ]
  },
  {
   "cell_type": "markdown",
   "id": "5a3b97e2-04c7-47e4-840c-3551e53e4903",
   "metadata": {},
   "source": [
    "#### Import Modules"
   ]
  },
  {
   "cell_type": "code",
   "execution_count": 4,
   "id": "281dc4c7-95a8-47b0-97b4-520d7cf1ecd7",
   "metadata": {},
   "outputs": [],
   "source": [
    "import os\n",
    "from PIL import Image\n",
    "import numpy as np"
   ]
  },
  {
   "cell_type": "markdown",
   "id": "6e80d972-c651-47d7-aaf1-3865f20b2e53",
   "metadata": {},
   "source": [
    "#### Define Function"
   ]
  },
  {
   "cell_type": "code",
   "execution_count": 5,
   "id": "643ad29b-e437-48cb-8588-ea0d3f338938",
   "metadata": {},
   "outputs": [],
   "source": [
    "def load_images_from_folder(folder):\n",
    "    \n",
    "    images = []\n",
    "    labels = []\n",
    "    class_names = []\n",
    "    \n",
    "    # Assign a numerical label to each folder (class)\n",
    "    for idx, class_name in enumerate(os.listdir(folder)):\n",
    "        class_path = os.path.join(folder, class_name)\n",
    "        \n",
    "        if not os.path.isdir(class_path):\n",
    "            continue\n",
    "        \n",
    "        # Store the class name for label reference\n",
    "        class_names.append(class_name)\n",
    "        \n",
    "        # Loop over all images in the class folder\n",
    "        for img_file in os.listdir(class_path):\n",
    "            img_path = os.path.join(class_path, img_file)\n",
    "            \n",
    "            try:\n",
    "                # Open, resize, and convert to NumPy array\n",
    "                img = Image.open(img_path).convert('RGB')  # Ensure it's RGB\n",
    "                img = img.resize((32, 32))\n",
    "                img_array = np.array(img)\n",
    "                \n",
    "                images.append(img_array)\n",
    "                labels.append(idx)  # Use the index of the folder as the label\n",
    "                \n",
    "            except Exception as e:\n",
    "                print(f\"Error loading image {img_path}: {e}\")\n",
    "    \n",
    "    return np.array(images), np.array(labels), class_names\n"
   ]
  },
  {
   "cell_type": "markdown",
   "id": "71a45992-0914-4e08-855a-56b05e428809",
   "metadata": {},
   "source": [
    "#### Use Function"
   ]
  },
  {
   "cell_type": "code",
   "execution_count": 6,
   "id": "3df5b3b2-7466-4284-bbbd-8cd39eadd350",
   "metadata": {},
   "outputs": [
    {
     "name": "stdout",
     "output_type": "stream",
     "text": [
      "Dataset contains 15000 images\n",
      "Image shape: (32, 32, 3), Label: 0, Class: Beam_001\n",
      "Dataset saved as images.npy, labels.npy, and class_names.npy.\n"
     ]
    }
   ],
   "source": [
    "# Path to the dataset folder\n",
    "dataset_folder = r\".\\Raw\"\n",
    "\n",
    "# Load the dataset\n",
    "images, labels, class_names = load_images_from_folder(dataset_folder)\n",
    "\n",
    "# Check dataset properties\n",
    "print(f\"Dataset contains {len(images)} images\")\n",
    "print(f\"Image shape: {images[0].shape}, Label: {labels[0]}, Class: {class_names[labels[0]]}\")\n",
    "\n",
    "# Save the dataset\n",
    "np.save('images.npy', images)\n",
    "np.save('labels.npy', labels)\n",
    "np.save('class_names.npy', np.array(class_names))\n",
    "\n",
    "print(\"Dataset saved as images.npy, labels.npy, and class_names.npy.\")"
   ]
  }
 ],
 "metadata": {
  "kernelspec": {
   "display_name": "Python 3 (ipykernel)",
   "language": "python",
   "name": "python3"
  },
  "language_info": {
   "codemirror_mode": {
    "name": "ipython",
    "version": 3
   },
   "file_extension": ".py",
   "mimetype": "text/x-python",
   "name": "python",
   "nbconvert_exporter": "python",
   "pygments_lexer": "ipython3",
   "version": "3.12.5"
  }
 },
 "nbformat": 4,
 "nbformat_minor": 5
}
